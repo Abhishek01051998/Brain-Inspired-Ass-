{
 "cells": [
  {
   "cell_type": "markdown",
   "metadata": {},
   "source": [
    "# Learning Goals\n",
    "\n",
    "The goal of this assignment is to develop an understanding of how the brain performs computations at the neuronal level. To do so, you will develop several models of a spiking neuron. By the end of this assignment, you should a) be comfortable with developing models of spiking neurons at different levels of abstraction, from the biologically plausible H-H model to the phenomenological LIF model; b) understand how neurons use their firing rate to represent continuous-valued information; and c) understand the trade-offs involved in spike-based information representation. \n",
    "\n",
    "Let's first import all the libraries required for this assignment"
   ]
  },
  {
   "cell_type": "code",
   "execution_count": 7,
   "metadata": {},
   "outputs": [
    {
     "name": "stdout",
     "output_type": "stream",
     "text": [
      "Defaulting to user installation because normal site-packages is not writeable\n",
      "Requirement already satisfied: numpy in /koko/system/anaconda/lib/python3.6/site-packages (1.19.2)\n",
      "Note: you may need to restart the kernel to use updated packages.\n"
     ]
    }
   ],
   "source": [
    "pip install numpy"
   ]
  },
  {
   "cell_type": "code",
   "execution_count": 8,
   "metadata": {},
   "outputs": [
    {
     "name": "stdout",
     "output_type": "stream",
     "text": [
      "Defaulting to user installation because normal site-packages is not writeable\n",
      "Requirement already satisfied: scipy in /common/home/aj763/.local/lib/python3.6/site-packages (1.5.4)\n",
      "Requirement already satisfied: numpy>=1.14.5 in /koko/system/anaconda/lib/python3.6/site-packages (from scipy) (1.19.2)\n",
      "Note: you may need to restart the kernel to use updated packages.\n"
     ]
    }
   ],
   "source": [
    "pip install scipy"
   ]
  },
  {
   "cell_type": "code",
   "execution_count": 9,
   "metadata": {},
   "outputs": [
    {
     "name": "stdout",
     "output_type": "stream",
     "text": [
      "Defaulting to user installation because normal site-packages is not writeable\n",
      "Requirement already satisfied: matplotlib in /common/home/aj763/.local/lib/python3.6/site-packages (3.3.4)\n",
      "Requirement already satisfied: pyparsing!=2.0.4,!=2.1.2,!=2.1.6,>=2.0.3 in /koko/system/anaconda/lib/python3.6/site-packages (from matplotlib) (2.4.7)\n",
      "Requirement already satisfied: numpy>=1.15 in /koko/system/anaconda/lib/python3.6/site-packages (from matplotlib) (1.19.2)\n",
      "Requirement already satisfied: pillow>=6.2.0 in /koko/system/anaconda/lib/python3.6/site-packages (from matplotlib) (8.2.0)\n",
      "Requirement already satisfied: cycler>=0.10 in /common/home/aj763/.local/lib/python3.6/site-packages (from matplotlib) (0.11.0)\n",
      "Requirement already satisfied: kiwisolver>=1.0.1 in /common/home/aj763/.local/lib/python3.6/site-packages (from matplotlib) (1.3.1)\n",
      "Requirement already satisfied: python-dateutil>=2.1 in /koko/system/anaconda/lib/python3.6/site-packages (from matplotlib) (2.8.1)\n",
      "Requirement already satisfied: six>=1.5 in /koko/system/anaconda/lib/python3.6/site-packages (from python-dateutil>=2.1->matplotlib) (1.15.0)\n",
      "Note: you may need to restart the kernel to use updated packages.\n"
     ]
    }
   ],
   "source": [
    "pip install matplotlib"
   ]
  },
  {
   "cell_type": "code",
   "execution_count": 17,
   "metadata": {},
   "outputs": [],
   "source": [
    "import math\n",
    "import numpy as np\n",
    "from scipy.integrate import odeint\n",
    "import matplotlib.pyplot as plt\n",
    "import torchvision\n",
    "import torchvision.datasets as datasets\n",
    "from torchvision import transforms"
   ]
  },
  {
   "cell_type": "markdown",
   "metadata": {},
   "source": [
    "# Question 1: The Hodgkin Huxley Neuron\n",
    "## 1a. \n",
    "We will start by implementing the different computational models of a spiking neuron, with the aim of understanding the differences between the different models. We will start with one of the earliest, yet one of the most biologically faithful models of a neuron - The Hodgkin-Huxley (HH) model. Below is the class definition of an HH neuron. Your first task is to fill the different components required to simulate an HH neuron. "
   ]
  },
  {
   "cell_type": "code",
   "execution_count": 18,
   "metadata": {},
   "outputs": [],
   "source": [
    "class HodgkinHuxley():\n",
    "    \"\"\"Implementation of Hodgkin Huxley Model\"\"\"\n",
    "    def __init__(self, C_m, g_Na, g_K, g_L, E_Na, E_K, E_L, T, dt):\n",
    "        \"\"\"\n",
    "        :param C_m: membrane capacitance in uF/cm^2\n",
    "        :param g_Na: Sodium conductance in mS/cm^2\n",
    "        :param g_K: Potassium conductance in ms/cm^2\n",
    "        :param g_L: Leak maximum conductance\n",
    "        :param E_Na: Sodium Nernst reversal potential in mV\n",
    "        :param E_K: Potassium Nernst reversal potential in mV\n",
    "        :param E_L: Leak Nernst reversal potential in mV\n",
    "        :param T: Simulation timesteps\n",
    "        :param dt: Integration time \n",
    "        \n",
    "        This function is complete. You do not need to do anything here.\n",
    "        \"\"\"\n",
    "        self.C_m = C_m \n",
    "        self.g_Na = g_Na \n",
    "        self.g_K = g_K\n",
    "        self.g_L = g_L\n",
    "        self.E_Na = E_Na\n",
    "        self.E_K = E_K\n",
    "        self.E_L = E_L\n",
    "        self.T = T\n",
    "        self.dt = dt\n",
    "        self.t = np.arange(0, self.T, self.dt) #time to integrate over\n",
    "    \n",
    "    def alpha_m(self, V):\n",
    "        \"\"\"\n",
    "        Channel gating kinetics\n",
    "        :param V: membrane voltage\n",
    "        :return: alpha_m\n",
    "        \n",
    "        Fill in the equation for alpha_m\n",
    "        \"\"\"\n",
    "        return 0.1*(V+40.0)/(1.0 - np.exp(-(V+40.0) / 10.0))\n",
    "\n",
    "    \n",
    "    def beta_m(self, V):\n",
    "        \"\"\"\n",
    "        Channel gating kinetics\n",
    "        :param V: membrane voltage\n",
    "        :return: beta_m\n",
    "        \n",
    "        Fill in the equation for beta_m\n",
    "        \"\"\"\n",
    "        return 4.0*np.exp(-(V+65.0) / 18.0)\n",
    "\n",
    "    \n",
    "    def alpha_h(self, V):\n",
    "        \"\"\"\n",
    "        Channel gating kinetics\n",
    "        :param V: membrane voltage\n",
    "        :return: alpha_h\n",
    "        \n",
    "        Fill in the equation for alpha_h\n",
    "        \"\"\"\n",
    "        return 0.07*np.exp(-(V+65.0) / 20.0)\n",
    "\n",
    "    def beta_h(self, V):\n",
    "        \"\"\"\n",
    "        Channel gating kinetics\n",
    "        :param V: membrane voltage\n",
    "        :return: beta_h\n",
    "        \n",
    "        Fill in the equation for beta_h\n",
    "        \"\"\"\n",
    "        return 1.0/(1.0 + np.exp(-(V+35.0) / 10.0))\n",
    "\n",
    "    \n",
    "    def alpha_n(self, V):\n",
    "        \"\"\"\n",
    "        Channel gating kinetics\n",
    "        :param V: membrane voltage\n",
    "        :return: alpha_n\n",
    "        \n",
    "        Fill in the equation for alpha_n\n",
    "        \"\"\"        \n",
    "        return 0.01*(V+55.0)/(1.0 - np.exp(-(V+55.0) / 10.0))\n",
    "\n",
    "    \n",
    "    \n",
    "    def beta_n(self, V):\n",
    "        \"\"\"\n",
    "        Channel gating kinetics\n",
    "        :param V: membrane voltage\n",
    "        :return: beta_n\n",
    "        \n",
    "        Fill in the equation for beta_n\n",
    "        \"\"\"\n",
    "        return 0.125*np.exp(-(V+65) / 80.0)\n",
    "\n",
    "    \n",
    "    def I_Na(self, V, m, h):\n",
    "        \"\"\"\n",
    "        Membrane Sodium current\n",
    "        :param V: membrane voltage\n",
    "        :param m: gating variable m\n",
    "        :param h: gating variable h\n",
    "        :return: sodium current I_Na\n",
    "        \n",
    "        Fill in the equation for I_Na\n",
    "        \"\"\"\n",
    "        return self.g_Na * m**3 * h * (V - self.E_Na)\n",
    "\n",
    "    \n",
    "    def I_K(self, V, n):\n",
    "        \"\"\"\n",
    "        Membrane Potassium current\n",
    "        :param V: membrane voltage\n",
    "        :param h: gating variable h\n",
    "        :return: Potassium current I_K\n",
    "        \n",
    "        Fill in the equation for I_K\n",
    "        \"\"\"\n",
    "        return self.g_K  * n**4 * (V - self.E_K)\n",
    "\n",
    "    \n",
    "    def I_L(self, V):\n",
    "        \"\"\"\n",
    "        Membrane Leak current\n",
    "        :param V: membrane voltage\n",
    "        :return: Leak current I_L\n",
    "        \n",
    "        Fill in the equation for I_L\n",
    "        \"\"\"\n",
    "        return self.g_L * (V - self.E_L)\n",
    "\n",
    "\n",
    "    def I_inj(self, t):\n",
    "        \"\"\"\n",
    "        External current\n",
    "        :param t: time\n",
    "        :return: step up to 10 uA/cm^2 at t>100\n",
    "                step down to 0 uA/cm^2 at t>200\n",
    "                step up to 35 uA/cm^2 at t>300\n",
    "                step down to 0 uA/cm^2 at t>400\n",
    "        \n",
    "        This function is complete. You do not need to do anything here.\n",
    "        \"\"\"\n",
    "        return 10*(t>100) - 10*(t>200) + 35*(t>300) - 35*(t>400)\n",
    "    \n",
    "    @staticmethod\n",
    "    def computeDerivatives(X, t, self):\n",
    "        \"\"\"\n",
    "        Function to integrate membrane potential and activation variables\n",
    "        :param X: array containing the integration variables: V, m, h, n\n",
    "        :param t: time\n",
    "        :return dVdt: increment in membrane voltage\n",
    "                dmdt: increment in m\n",
    "                dhdt: increment in h\n",
    "                dndt: increment in n\n",
    "        \n",
    "        Fill in the update equations for dVdt, dmdt, dhdt, dndt\n",
    "        \"\"\"\n",
    "\n",
    "        V, m, h, n = X #unwrap X into the membrane potential and activation variables\n",
    "        dVdt = (self.I_inj(t) - self.I_Na(V, m, h) - self.I_K(V, n) - self.I_L(V)) / self.C_m #compute increment in membrane voltage\n",
    "        dmdt = self.alpha_m(V)*(1.0-m) - self.beta_m(V)*m #compute increment in m\n",
    "        dhdt = self.alpha_h(V)*(1.0-h) - self.beta_h(V)*h #compute increment in h\n",
    "        dndt = self.alpha_n(V)*(1.0-n) - self.beta_n(V)*n #compute increment in n\n",
    "        \n",
    "        return dVdt, dmdt, dhdt, dndt\n",
    "    \n",
    "    def run(self):\n",
    "        \"\"\"\n",
    "        Main function to simulate HH neuron and plot voltage and current against time. This part is complete. DO NOT change this code. You do not need to fill anything here. \n",
    "        \"\"\"\n",
    "        \n",
    "        X = odeint(self.computeDerivatives, [-65, 0.05, 0.6, 0.32], self.t, args=(self,))\n",
    "        V, m, n, h = X[:, 0], X[:, 1], X[:, 2], X[:, 3]\n",
    "        plt.figure()\n",
    "        plt.subplot(2,1,1)\n",
    "        plt.title('Hodgkin-Huxley Neuron')\n",
    "        plt.plot(self.t, V, 'k')\n",
    "        plt.ylabel('V')\n",
    "       \n",
    "        plt.figure()\n",
    "        plt.subplot(2,1,2)\n",
    "        i_inj = [self.I_inj(t) for t in self.t]\n",
    "        plt.plot(self.t, i_inj, 'k')\n",
    "        plt.xlabel('t')\n",
    "        plt.ylabel('$I_{inj}$ ($\\\\mu{A}/cm^2$)')\n",
    "        plt.ylim(-1, 40)\n",
    "       \n",
    "        plt.show()"
   ]
  },
  {
   "cell_type": "markdown",
   "metadata": {},
   "source": [
    "## 1b. \n",
    "Initialize an HH neuron using a proper set of parameters; then run the simulation. You should be able to get a plot depicting how the Voltage and Current of the neuron change with time. "
   ]
  },
  {
   "cell_type": "code",
   "execution_count": 19,
   "metadata": {},
   "outputs": [
    {
     "data": {
      "image/png": "[encoded data removed]",
      "text/plain": [
       "<Figure size 432x288 with 1 Axes>"
      ]
     },
     "metadata": {
      "needs_background": "light"
     },
     "output_type": "display_data"
    },
    {
     "data": {
      "image/png": "[encoded data removed]",
      "text/plain": [
       "<Figure size 432x288 with 1 Axes>"
      ]
     },
     "metadata": {
      "needs_background": "light"
     },
     "output_type": "display_data"
    }
   ],
   "source": [
    "#1. Initialize an hh neuron using the class definition above\n",
    "HH = HodgkinHuxley(C_m = 1.0, g_Na = 120.0, g_K = 36.0, g_L = 0.3, E_Na = 50.0, E_K = -77.0, E_L = -54.387, T = 450.0, dt = 0.01)\n",
    "\n",
    "#2. Run the hh neuron simulation\n",
    "HH.run()\n"
   ]
  },
  {
   "cell_type": "markdown",
   "metadata": {},
   "source": [
    "## 1c. \n",
    "The beauty of a neurophysiologically accurate model of a neuron is that it allows the simulation of several phenomena that can take place in the brain. Assume that you administer a drug named Tetrodotoxin (TTX), which is a potent neurotoxin that inhibits the voltage-gated sodium channels, and therefore decreases the sodium current. Simulate the effects that administering TTX would have on the neural firing.  Do the same for another drug, pronase,\n",
    "which eliminates sodium inactivation. "
   ]
  },
  {
   "cell_type": "code",
   "execution_count": 20,
   "metadata": {},
   "outputs": [
    {
     "data": {
      "image/png": "[encoded data removed]",
      "text/plain": [
       "<Figure size 432x288 with 1 Axes>"
      ]
     },
     "metadata": {
      "needs_background": "light"
     },
     "output_type": "display_data"
    },
    {
     "data": {
      "image/png": "[encoded data removed]",
      "text/plain": [
       "<Figure size 432x288 with 1 Axes>"
      ]
     },
     "metadata": {
      "needs_background": "light"
     },
     "output_type": "display_data"
    },
    {
     "data": {
      "image/png": "[encoded data removed]",
      "text/plain": [
       "<Figure size 432x288 with 1 Axes>"
      ]
     },
     "metadata": {
      "needs_background": "light"
     },
     "output_type": "display_data"
    },
    {
     "data": {
      "image/png": "[encoded data removed]",
      "text/plain": [
       "<Figure size 432x288 with 1 Axes>"
      ]
     },
     "metadata": {
      "needs_background": "light"
     },
     "output_type": "display_data"
    }
   ],
   "source": [
    "#1. Initialize an hh neuron to simulate TTX\n",
    "HHNTTX=HodgkinHuxley(1.0,120.0,36.0,0.3,0.0,-77.0,-54.387,500.0,0.01)\n",
    "\n",
    "#2. Run the hh neuron simulation\n",
    "HHNTTX.run()\n",
    "\n",
    "#3. Initialize an hh neuron to simulate pronase\n",
    "HHNPRO=HodgkinHuxley(1.0,120.0,36.0,0.3,50.0,-77.0,-54.387,500.0,0.01)\n",
    "\n",
    "#4. Run the hh neuron simulation\n",
    "HHNPRO.run()"
   ]
  },
  {
   "cell_type": "markdown",
   "metadata": {},
   "source": [
    "# Question 2: The Izhikevich Neuron\n",
    "\n",
    "## 2a.\n",
    "We will now implement an Izhikevich (Izhi) neuron model. Below is the class definition of an Izhi neuron. Like before, your task is to fill in the different components required to simulate an Izhi neuron. You should notice one key difference in the implementation: While our HH implementation relied on the odeint libary from scipy for integration, here we will use 'Euler's method' to integrate. The Euler's method is very intuitive, simple, and can be easily implemented. For your reference, the dynamics of an Izhi neuron are described in equations 1, 2, 3 in the paper: https://www.izhikevich.org/publications/spikes.pdf"
   ]
  },
  {
   "cell_type": "code",
   "execution_count": 21,
   "metadata": {},
   "outputs": [],
   "source": [
    "class Izhi():\n",
    "    \"\"\"Implementation of the Izhikevich neuron Model\"\"\"\n",
    "    def __init__(self, a, b, c, d, Vth, T, dt):\n",
    "        \"\"\"\n",
    "        :param a, b, c, d: Izhi neuron parameters\n",
    "        :param Vth: Voltage threshold for spiking\n",
    "        :param T: Simulation timesteps\n",
    "        :param dt: Integration time \n",
    "        \n",
    "        This function is complete. You do not need to do anything here.\n",
    "        \"\"\"\n",
    "        self.a = a\n",
    "        self.b = b\n",
    "        self.c = c\n",
    "        self.d = d\n",
    "        self.Vth = Vth\n",
    "        self.u = self.b * self.c #initialize u\n",
    "        self.T = T\n",
    "        self.dt = dt\n",
    "        self.t = np.arange(0, self.T, self.dt)\n",
    "        self.I = 10 #Input stimulus current\n",
    "        \n",
    "    def run(self):\n",
    "        \"\"\"\n",
    "        Main function to simulate Izhi neuron and plot voltage and current against time. Fill in the update equations for du, dv, v[t] and u[t] and resetting on spiking.\n",
    "        \"\"\"\n",
    "        V = np.zeros(len(self.t)) #Initialize a numpy array containing the membrane voltages for all the timesteps\n",
    "        V[0] = self.c #Initial membrane voltage is the rest potential, defined by the parameter 'c'\n",
    "        u = np.zeros(len(self.t)) #Initialize a numpy array containing u for all the timesteps\n",
    "        u[0] = self.u #Initial u\n",
    "        \n",
    "        for t in range(1, len(self.t)): #the time loop for performing euler's integration\n",
    "            dv =  (0.04 * V[t - 1] + 5) * V[t - 1] + 140 - u[t - 1]\n",
    "            du =   self.a * (self.b * V[t - 1] - u[t - 1])\n",
    "            V[t] =  V[t - 1] + (dv + self.I) * self.dt\n",
    "            u[t] =  u[t - 1] + self.dt * du\n",
    "            \n",
    "            #condition for when membrane potential is greater than the threshold\n",
    "            if V[t] >= self.Vth:\n",
    "                V[t] =  self.c\n",
    "                u[t] =  u[t] + self.d\n",
    "                \n",
    "        #plotting\n",
    "        \"\"\"This function is complete. You do not need to do anything here\"\"\"\n",
    "        plt.figure()\n",
    "        plt.subplot(2,1,1)\n",
    "        plt.title('Izhi Neuron')\n",
    "        plt.plot(self.t, V, 'k')\n",
    "        plt.ylabel('V')\n",
    "        \n",
    "        plt.figure()\n",
    "        plt.subplot(2,1,2)\n",
    "        i_inj = [self.I for t in self.t]\n",
    "        plt.plot(self.t, i_inj, 'k')\n",
    "        plt.xlabel('t')\n",
    "        plt.ylabel('$I_{inj}$ ($\\\\mu{A}/cm^2$)')\n",
    "        \n",
    "        plt.show()\n"
   ]
  },
  {
   "cell_type": "markdown",
   "metadata": {},
   "source": [
    "## 2b. \n",
    "Initialize an Izhi neuron with the correct parameters and run the simulation. You should again be able to get a plot depicting how the Voltage and Current of the neuron change with time. "
   ]
  },
  {
   "cell_type": "code",
   "execution_count": null,
   "metadata": {},
   "outputs": [],
   "source": []
  },
  {
   "cell_type": "code",
   "execution_count": 22,
   "metadata": {},
   "outputs": [
    {
     "data": {
      "image/png": "[encoded data removed]",
      "text/plain": [
       "<Figure size 432x288 with 1 Axes>"
      ]
     },
     "metadata": {
      "needs_background": "light"
     },
     "output_type": "display_data"
    },
    {
     "data": {
      "image/png": "[encoded data removed]",
      "text/plain": [
       "<Figure size 432x288 with 1 Axes>"
      ]
     },
     "metadata": {
      "needs_background": "light"
     },
     "output_type": "display_data"
    }
   ],
   "source": [
    "#1. Initialize an izhikevich neuron with the appropriate parameters\n",
    "THN = Izhi(0.02,0.2,-65,8,30,1000,0.5)\n",
    "#2. Run the simulation and obtain the results\n",
    "THN.run()"
   ]
  },
  {
   "cell_type": "markdown",
   "metadata": {},
   "source": [
    "## 2c.\n",
    "Change the parameters of the Izhi neuron in the code to replicate two different patterns identified in neurons, e.g., bursting and adaptation. You can find the parameters for several different Izhi models here: https://www.izhikevich.org/publications/spikes.pdf"
   ]
  },
  {
   "cell_type": "code",
   "execution_count": 23,
   "metadata": {},
   "outputs": [
    {
     "data": {
      "image/png": "[encoded data removed]",
      "text/plain": [
       "<Figure size 432x288 with 1 Axes>"
      ]
     },
     "metadata": {
      "needs_background": "light"
     },
     "output_type": "display_data"
    },
    {
     "data": {
      "image/png": "[encoded data removed]",
      "text/plain": [
       "<Figure size 432x288 with 1 Axes>"
      ]
     },
     "metadata": {
      "needs_background": "light"
     },
     "output_type": "display_data"
    },
    {
     "data": {
      "image/png": "[encoded data removed]",
      "text/plain": [
       "<Figure size 432x288 with 1 Axes>"
      ]
     },
     "metadata": {
      "needs_background": "light"
     },
     "output_type": "display_data"
    },
    {
     "data": {
      "image/png": "[encoded data removed]",
      "text/plain": [
       "<Figure size 432x288 with 1 Axes>"
      ]
     },
     "metadata": {
      "needs_background": "light"
     },
     "output_type": "display_data"
    }
   ],
   "source": [
    "#Write your implementation of the bursting and chattering neuron here\n",
    "TNburst=Izhi(0.02,0.2,-55,4,30,200,0.5)\n",
    "TNburst.run()\n",
    "#1. Initialize an izhikevich neuron with the appropriate parameters\n",
    "TNchat=Izhi(0.02,0.2,-50,2,30,1000,0.5)\n",
    "TNchat.run()\n",
    "#2. Run the simulation and obtain the results"
   ]
  },
  {
   "cell_type": "markdown",
   "metadata": {},
   "source": [
    "# Question 3: The LIF Neuron\n",
    "\n",
    "## 3a. \n",
    "In this question, you will implement the almighty leaky integrate and fire neuron (LIF). The LIF neuron is the most widely-used model of a neuron in the SNN literature and you will be using it a lot for your course assignments and for your project. Below is the class definition of an LIF neuron. Just like the Izhi neuron, we will use Euler's method to perform integration. There is one key difference however: For HH and Izhi implementations, the neuron was taking current as the input. In our LIF implementation, the neuron takes spike-trains as inputs and produces spike-trains as output, similarly to how a real neuron works. \n",
    "\n",
    "As a hint, we provide here a discrete-time version of an LIF neuron:\n",
    "\n",
    "* First, integrate the input spikes into current with some decay factor\n",
    "\n",
    "$$C[t] = C[t-1] * current\\_decay + input\\_spike[t]$$\n",
    "\n",
    "* Then, integrate the current  into voltage with some decay factor\n",
    "\n",
    "$$V[t] = V[t-1] * voltage\\_decay + C[t]$$\n",
    "\n",
    "* Lastly produce a spike if the voltage exceeds the threshold, and reset voltage\n",
    "\n",
    "$$if V[t] >= Vth  \\\\ output\\_spike[t] = 1 \\ and \\ V[t] = Rest\\_Potential $$"
   ]
  },
  {
   "cell_type": "code",
   "execution_count": 24,
   "metadata": {},
   "outputs": [],
   "source": [
    "class LIF():\n",
    "    \"\"\"Implementation of Leaky integrate and fire neuron Model\"\"\"\n",
    "    def __init__(self, dc, dv, Vth, Vr):\n",
    "        \"\"\"\n",
    "        :param dc: Decay factor for current\n",
    "        :param dv: Decay factor for voltage\n",
    "        :param Vth: Voltage Threshold\n",
    "        :param Vr: Rest potential \n",
    "        \n",
    "        This function is complete. You do not need to do anything here\n",
    "        \"\"\"\n",
    "        self.dc = dc\n",
    "        self.dv = dv\n",
    "        self.Vth = Vth\n",
    "        self.Vr = Vr\n",
    "    \n",
    "    def run(self, in_spikes):\n",
    "        \"\"\"\n",
    "        Main function to simulate LIF neuron\n",
    "        :param in_spikes: Input spike train\n",
    "        :return out_spikes: output spike train\n",
    "        \n",
    "        Fill in the parts for updating Cm, Vm, and the condition for spiking and resetting\n",
    "        \"\"\"\n",
    "        Vm, Cm, out_spikes = [np.zeros(len(in_spikes)) for _ in range(3)] #initialize the state variables\n",
    "        for t in range(1, len(in_spikes)): #Time loop to perform Euler's Integration\n",
    "            Cm[t] = Cm[t-1] * self.dc + in_spikes[t]  #Integrate input spikes into current\n",
    "            Vm[t] = Vm[t-1] *self.dv +Cm[t]  #Integrate current into voltage\n",
    "            \n",
    "            #condition for when membrane potential is greater than the threshold\n",
    "            if Vm[t] >=self.Vth:\n",
    "                out_spikes[t]=1\n",
    "                Vm[t]=self.Vr\n",
    "\n",
    "        \n",
    "        return out_spikes"
   ]
  },
  {
   "cell_type": "markdown",
   "metadata": {},
   "source": [
    "## 3b. \n",
    "Based on the class definition above, create an LIF neuron with the following parameters: dc = 0.5, dv = 0.5, Vth = 0.50, Vr = 0. \n",
    "Then apply to the neuron a random spike train for 15 timesteps. You might find the following numpy package useful to generate the input spike train:\n",
    "https://numpy.org/doc/stable/reference/random/generated/numpy.random.choice.html\n",
    "\n",
    "Simulate the neuron and print input and output spikes. "
   ]
  },
  {
   "cell_type": "code",
   "execution_count": 25,
   "metadata": {},
   "outputs": [
    {
     "name": "stdout",
     "output_type": "stream",
     "text": [
      "[1 1 0 0 1 0 1 1 1 0 1 1 1 1 0]\n",
      "[0. 1. 1. 0. 1. 1. 1. 1. 1. 1. 1. 1. 1. 1. 1.]\n"
     ]
    },
    {
     "data": {
      "text/plain": [
       "Text(0, 0.5, 'LIF Neuron')"
      ]
     },
     "execution_count": 25,
     "metadata": {},
     "output_type": "execute_result"
    },
    {
     "data": {
      "image/png": "[encoded data removed]",
      "text/plain": [
       "<Figure size 432x288 with 1 Axes>"
      ]
     },
     "metadata": {
      "needs_background": "light"
     },
     "output_type": "display_data"
    },
    {
     "data": {
      "image/png": "[encoded data removed]",
      "text/plain": [
       "<Figure size 432x288 with 1 Axes>"
      ]
     },
     "metadata": {
      "needs_background": "light"
     },
     "output_type": "display_data"
    }
   ],
   "source": [
    "#1. Create an LIF neuron with the required parameters using the class definition above\n",
    "lif=LIF(0.5,0.5,0.50,0)\n",
    "#2. Generate a random input spike train of 15 timesteps using the numpy random choice library function\n",
    "in_spikes=np.random.choice(2,15)\n",
    "\n",
    "#3. Print the input spikes\n",
    "print(in_spikes)\n",
    "t=[0,1,2,3,4,5,6,7,8,9,10,11,12,13,14]\n",
    "plt.figure()\n",
    "plt.title(\"lif Neuron\")\n",
    "plt.plot(t,in_spikes)\n",
    "plt.ylabel(\"LIF Neuron\")\n",
    "\n",
    "#4. Stimulate the LIF neuron with input spikes and return the output spikes\n",
    "out_spikes=lif.run(in_spikes)\n",
    "\n",
    "#5. Print the output spikes\n",
    "print(out_spikes)\n",
    "plt.figure()\n",
    "plt.title(\"lif Neuron\")\n",
    "plt.plot(t,out_spikes)\n",
    "plt.ylabel(\"LIF Neuron\")"
   ]
  },
  {
   "cell_type": "markdown",
   "metadata": {},
   "source": [
    "# Question 4: Biology vs. Efficiency\n",
    "Now that you have simulated spiking neuron models at different levels of abstraction, we will learn how to differentiate between the three neuron models that we have developed, based on the following criteria:\n",
    "* Biological realism\n",
    "* Computational Efficiency\n",
    "\n",
    "Can you describe for what tasks might you need an HH model? For what tasks would an LIF neuron be a better alternative?\n",
    "*Hint*: Why one should use a neuron model that replicates several of the neuron's mechanisms vs. using a model that emulates the neuron as a spike-in-spike-out black box. "
   ]
  },
  {
   "cell_type": "markdown",
   "metadata": {},
   "source": [
    "## Answer 4:\n",
    "Comparing the three models on \n",
    "Biological Realism:aGood at capturing the diversity of dynamical features of real neurons quantitatively. Highly nonlinear, a large number of variables ⇒complex to analyze mathematically. Simulations of networks of HH neurons computationally expensive Looking into the empirical content of the Hodgkin Huxley model, most of the parameters account for kinetic properties of voltage-gated Na-k conductances. It makes predictions about the ionic current and shape of the spike, but by observation, we can falsify this fact. This empirical content address the logical structure but not the accuracy .in Contrast, the LIF model is more accurate in predicting the spiking response of the neuron. This model is more accurate in spike initialization because of the cooperative and backpropagation hypotheses. Too simple to reproduce the diversity of dynamical features of real neurons. It can be analyzed mathematically in great detail (at both neuron and network levels). Possible to simulate extensive networks of such neurons \n",
    " Computation EfficiencyThe computational efficiency varies with the parameter we choose for computation . Taking general parameters into consideration, we can sayLIF and Izhi have discontinuous spikes with induces errors every time a random input current is introduced instead of the constant current increasing inaccuracy. However, the LIF neuron is simple to produce the dynamical features of a real neuron. It can be mathematically analyzed and in greater detail. It is possible to simulate for higher networks with lower computational cost, .but the HH model captures a lot of dynamical features of a real neuron. It is highly nonlinear and has a tremendous computational accuracy compared to other models, but the computational cost is too expensive.HH model is used in image motion detection, whereas LIF is used in image classification."
   ]
  },
  {
   "cell_type": "markdown",
   "metadata": {},
   "source": [
    "# Question 5: Tuning Membrane Properties of the LIF neuron\n",
    "## 5a.\n",
    "In this question, you will understand how to tune the membrane properties of an LIF neuron. First, generate 19 inputs in the form of random spike trains of length 50, i.e. 50 timesteps. The inputs will have different levels of probabilities for spike generation, that ranges between 0.1 and 1.0 with step size of 0.05. In other words, you will create 19 spike trains with the first spike train having the probability of 0.1 to generate spikes at any timestep, the second spike train will have the spike generation probability of 0.15, and so on. \n",
    "\n",
    "Simulate an LIF neuron with the parameters defined in Question 3b. You will now drive the neuron model with the 19 randomly generated input spike trains that you have created, and compute the output spike train. \n",
    "At the same time, compute the input firing rate and output firing rate for each simulation. Firing rate is defined as the mean of the spike train, i.e. total number of spikes/timesteps"
   ]
  },
  {
   "cell_type": "code",
   "execution_count": 26,
   "metadata": {},
   "outputs": [
    {
     "data": {
      "image/png": "[encoded data removed]",
      "text/plain": [
       "<Figure size 432x288 with 1 Axes>"
      ]
     },
     "metadata": {
      "needs_background": "light"
     },
     "output_type": "display_data"
    },
    {
     "data": {
      "image/png": "[encoded data removed]",
      "text/plain": [
       "<Figure size 432x288 with 1 Axes>"
      ]
     },
     "metadata": {
      "needs_background": "light"
     },
     "output_type": "display_data"
    }
   ],
   "source": [
    "def lif_behavior(lif):\n",
    "    \"\"\"Function to understand the behavior of LIF neuron for different densities of spike inputs\n",
    "    :param lif: An instance of the LIF neuron\n",
    "    \"\"\"\n",
    "    #1. Create lists to store the input and output firing rates\n",
    "    in_fr = [] #input firing rate\n",
    "    out_fr = [] #output firing rate\n",
    "    \n",
    "    #2. Create a list of probabilities: from 0.1 to 1.0 with step size of 0.05. You might find the numpy arange function helpful here.\n",
    "    probabilities = np.arange(0.1,1.0,0.05)\n",
    "    \n",
    "    #3. Loop through the range of probabilities\n",
    "    for p in probabilities:\n",
    "        in_spikes = np.random.choice([1,0],50,p=[p,1-p])\n",
    "        \n",
    "        \n",
    "        #compute input firing rate and append to the in_fr list\n",
    "        c=0\n",
    "        for i in in_spikes:\n",
    "            if i!=0:\n",
    "                c=c+1\n",
    "        \n",
    "        \n",
    "        #obtain output spikes by applying the input to the LIF neuron\n",
    "        in_fr.append(c/50)\n",
    "        out_spikes=lif.run(in_spikes)\n",
    "        \n",
    "        \n",
    "        #compute output firing rate and append to the out_fr list\n",
    "        c=0\n",
    "        for i in out_spikes:\n",
    "            if i!=0:\n",
    "                c=c+1\n",
    "        out_fr.append(c/50)\n",
    "\n",
    "    #Plot the input and output firing rates. Nothing to do here. This part is complete\n",
    "    plt.figure()\n",
    "    plt.subplot(2,1,1)\n",
    "    plt.title('output firing rate')\n",
    "    plt.plot(out_fr, 'k')\n",
    "    plt.ylabel('Out F.R.')\n",
    "    plt.ylim([0,1])\n",
    "\n",
    "    plt.figure()\n",
    "    plt.subplot(2,1,2)\n",
    "    plt.plot(in_fr, 'k')\n",
    "    plt.ylabel('In F.R.')\n",
    "    plt.ylim([0,1])\n",
    "    plt.show()\n",
    "\n",
    "#Run the lif behavior function for the LIF neuron that we created previously\n",
    "lif_behavior(lif)"
   ]
  },
  {
   "cell_type": "markdown",
   "metadata": {},
   "source": [
    "## 5b. \n",
    "Describe how soon does the output firing rate start to saturate? Can you describe why this could be problematic? *Hint: Think from the point of view of distinguishing between two different inputs based on firing activity*"
   ]
  },
  {
   "cell_type": "markdown",
   "metadata": {},
   "source": [
    "## Answer 5b.\n",
    "The graph shows that the saturate starts at 15; this can be problematic as when saturation hits, the ability to sort differences in sensory information gets lost. The continuous  excitation amplification of weak signals increases the risk of unstable activity in the brain  "
   ]
  },
  {
   "cell_type": "markdown",
   "metadata": {},
   "source": [
    "## 5c. \n",
    "Change the membrane properties of the LIF neuron to resolve the issue of saturation. In other words, experiment on setting different parameter values that do not allow the output firing rate to saturate so early. *Hint: You may want to start by changing one variable at a time, and see its effect. Try to move it slightly, or abruptly, up or down. Then move to the next parameter, until you see what is its effect on the neuron's output.* "
   ]
  },
  {
   "cell_type": "code",
   "execution_count": 31,
   "metadata": {},
   "outputs": [
    {
     "data": {
      "image/png": "[encoded data removed]",
      "text/plain": [
       "<Figure size 432x288 with 1 Axes>"
      ]
     },
     "metadata": {
      "needs_background": "light"
     },
     "output_type": "display_data"
    },
    {
     "data": {
      "image/png": "[encoded data removed]",
      "text/plain": [
       "<Figure size 432x288 with 1 Axes>"
      ]
     },
     "metadata": {
      "needs_background": "light"
     },
     "output_type": "display_data"
    }
   ],
   "source": [
    "#1. Create an LIF neuron with appropriately tuned membrane properties\n",
    "lif=LIF(0.3,0.5,0.5,0)\n",
    "\n",
    "#2. Call the lif behavior function on the tuned lif neuron\n",
    "lif_behavior(lif)"
   ]
  },
  {
   "cell_type": "markdown",
   "metadata": {},
   "source": [
    "## 5d.\n",
    "Based on the above results, can you describe how changing the H-H parameters changes the voltage threshold of a spiking neuron as a function of the input spikes?"
   ]
  },
  {
   "cell_type": "markdown",
   "metadata": {},
   "source": [
    "## Answer 5d.\n",
    "Though the potential neuronal firing is considered a threshold, it is not mathematically defined. Instead, the transition of the current pulse can be treated as the threshold. Howsoever the threshold that we find depends on the stimulation protocol. For example, when a model is run with a short current of 1ms duration, with strong stimulation, it emits spikes. Whereas if I slightly increase its amplitude between the first and second pulse. The neuron will go to the resting\n",
    "potential, as the voltage fired will be more than the threshold, but Similarly, if the neuron model is run with 100ms of short current, then there will be a different threshold. In simple words, the equation is adding the decay\n",
    "\n"
   ]
  },
  {
   "cell_type": "markdown",
   "metadata": {},
   "source": [
    "# Question 6: Encoding continuous inputs into spikes\n",
    "## 6a.\n",
    "Now we will understand how we can represent continuous-valued inputs as spikes so that drive our spiking neuron. Describe two prominent ways to encode a continuous-valued input into the spiking activity of a neuron. "
   ]
  },
  {
   "cell_type": "markdown",
   "metadata": {},
   "source": [
    "## Answer 6a.\n",
    "Phase Coding\n",
    "Phase coding scheme converts input pixels into their binary representation where the bit, “1,” signals a spike. The phase information is added to the spikes by assigning weights to each bit in the representation. The number of the phases is 8, determined by the largest pixel intensity (255). The spike weight changes with time periodically, given by ws(t) = 2−[(1 + mod(t−1, 8))], which represents the significance of each bit in the binary representation. The decoding phase uses the weighted spikes to produce the synaptic input, described by Equation. The larger an input pixel is, the more significant spikes it produces and the more information it transmits.\n",
    "\n",
    "Rate Coding\n",
    " This scheme considers each input pixel as a firing rate and converts the pixel into a Poisson spike train with the firing rate. A factor λ scales down input pixels. The factor is selected as four for the optimal classification and computational performance, and the corresponding firing rates are between 0 and 63.75 Hz. Poisson spike trains are generated by comparing the scaled pixels with random numbers."
   ]
  },
  {
   "cell_type": "markdown",
   "metadata": {},
   "source": [
    "## 6b. \n",
    "So far we have learned how we can stimulate a spiking neuron using spike inputs. In this exercise, you will learn how to encode real-world data into spikes that can then be fed as inputs to the spiking neuron. We will take a digit from the popular MNIST dataset as an example. First let's see what a sample digit from the MNIST image looks like. For this, we need to create a loader for the MNIST dataset using a Pytorch function called datasets.MNIST. You do not need to know what a loader is for now. Just understand the two important arguments of the function: The first argument is the directory where the MNIST dataset will be downloaded. The third argument is the set download option. This should be true for the first time when you run this cell to allow you to download the MNIST data into your directory. You can set it to false if the MNIST data has already been downloaded. "
   ]
  },
  {
   "cell_type": "code",
   "execution_count": 11,
   "metadata": {},
   "outputs": [
    {
     "data": {
      "text/plain": [
       "<matplotlib.image.AxesImage at 0x7f0746ad3860>"
      ]
     },
     "execution_count": 11,
     "metadata": {},
     "output_type": "execute_result"
    },
    {
     "data": {
      "image/png": "[encoded data removed]",
      "text/plain": [
       "<Figure size 432x288 with 1 Axes>"
      ]
     },
     "metadata": {
      "needs_background": "light"
     },
     "output_type": "display_data"
    }
   ],
   "source": [
    "#Create a loader\n",
    "mnist = datasets.MNIST(root='../data', train=False, download=True, transform=transforms.ToTensor())\n",
    "#You can access any sample digit from the MNIST dataset using simple indexing mnist[idx]. This returns the digit and the label. We are only interested in the digit. \n",
    "x, _ = mnist[5]\n",
    "#Convert to numpy\n",
    "x = x.numpy()[0]\n",
    "#Visualize\n",
    "plt.imshow(x)"
   ]
  },
  {
   "cell_type": "markdown",
   "metadata": {},
   "source": [
    "Let's now encode the image in the form of spikes using rate-encoding. Suppose that each pixel in the image needs to be encoded in a spike train of length 2. The steps to encode are outlined below:\n",
    "* For each pixel in the image, sample a random number.\n",
    "* If the pixel intensity is greater than the generated random number, output a spike. \n",
    "* Repeat for as many timesteps as you need to encode the image for. \n",
    "* Repeat for all pixels"
   ]
  },
  {
   "cell_type": "code",
   "execution_count": 12,
   "metadata": {},
   "outputs": [
    {
     "name": "stdout",
     "output_type": "stream",
     "text": [
      "(28, 28)\n"
     ]
    }
   ],
   "source": [
    "#1. Use the numpy.random.rand function to encode the MNIST image into spikes\n",
    "a,b =x.shape[:2]\n",
    "imgspike=np.random.rand(a,b)\n",
    "outmatrixvar=np.zeros((a,b))\n",
    "for ts in range(3):\n",
    "    for i in range(a):\n",
    "        for j in range(b):\n",
    "            if x[i][j]>imgspike[i][j]:\n",
    "                outmatrixvar[i][j]=1\n",
    "\n",
    "#2. Output the shape of the spike-encoded image using numpy.shape\n",
    "print(outmatrixvar.shape)\n"
   ]
  },
  {
   "cell_type": "markdown",
   "metadata": {},
   "source": [
    "## 6c. \n",
    "Now, we will decode the image back from the spike-based representation. Can you think of a way to get the pixel values back? *Hint: Think aggregate measures on the spike trains for each pixel*"
   ]
  },
  {
   "cell_type": "code",
   "execution_count": 15,
   "metadata": {},
   "outputs": [
    {
     "data": {
      "text/plain": [
       "<matplotlib.image.AxesImage at 0x7f0745e274e0>"
      ]
     },
     "execution_count": 15,
     "metadata": {},
     "output_type": "execute_result"
    },
    {
     "data": {
      "image/png": "[encoded data removed]",
      "text/plain": [
       "<Figure size 432x288 with 1 Axes>"
      ]
     },
     "metadata": {},
     "output_type": "display_data"
    }
   ],
   "source": [
    "#1. Compute some aggregate measure of spike trains for each pixel to get the image back. Numpy aggregate functions might be useful here\n",
    "import scipy.ndimage as ndimage\n",
    "fp=np.array([[0,1,0],[1,0,1],[0,1,0]])\n",
    "z=ndimage.generic_filter(x,np.mean,footprint=fp,mode='wrap')\n",
    "#2. visualize the reconstructed image\n",
    "plt.figure(facecolor=\"w\")\n",
    "plt.subplot(1,2,1)\n",
    "plt.axis('off')\n",
    "plt.imshow(z)\n"
   ]
  },
  {
   "cell_type": "markdown",
   "metadata": {},
   "source": [
    "Is it possible to get the exact image back? Why/Why not?"
   ]
  },
  {
   "cell_type": "markdown",
   "metadata": {},
   "source": [
    "## Answer 6c.\n",
    "we cannot get the exact same image because we are computing the average which causes loss in  the accurate values of th true image ..This leads to loss   of exact information because  of loss of pixels"
   ]
  },
  {
   "cell_type": "markdown",
   "metadata": {},
   "source": [
    "## 6d. \n",
    "Can you think of a way to encode the image into spikes in a way such that the decoded image looks as close as possible to the original image? *Hint: Think timesteps*"
   ]
  },
  {
   "cell_type": "code",
   "execution_count": 16,
   "metadata": {},
   "outputs": [
    {
     "data": {
      "text/plain": [
       "<matplotlib.image.AxesImage at 0x7f0745e14710>"
      ]
     },
     "execution_count": 16,
     "metadata": {},
     "output_type": "execute_result"
    },
    {
     "data": {
      "image/png": "[encoded data removed]",
      "text/plain": [
       "<Figure size 432x288 with 1 Axes>"
      ]
     },
     "metadata": {
      "needs_background": "light"
     },
     "output_type": "display_data"
    }
   ],
   "source": [
    "#1. Create a \"better\" encoding of the image\n",
    "w,h=x.shape[:2]\n",
    "omv=np.zeros((w,h))\n",
    "for ts in range(1,6):\n",
    "    imagespikes=np.random.rand(w,h)\n",
    "    for i in range(w):\n",
    "        for j in range(h):\n",
    "            if x[i][j]>imagespikes[i][j]:\n",
    "                omv[i][j]=ts\n",
    "\n",
    "#2. Compute and visualize the decoded image\n",
    "rv=np.zeros((w,h))\n",
    "for i in range(w):\n",
    "    for j in range(h):\n",
    "        if x[i][j] !=0:\n",
    "            rv[i][j]=omv[i][j]/5\n",
    "plt.imshow(rv)\n"
   ]
  },
  {
   "cell_type": "markdown",
   "metadata": {},
   "source": [
    "If each intensity pixel is represented with a value between [0, 255], what would be a reasonable timestep to encode it accurately? What might be a disadvantage of this solution?"
   ]
  },
  {
   "cell_type": "markdown",
   "metadata": {},
   "source": [
    "## Answer 6d. \n",
    "Iobserved that at 5 timesteps compute a image with intensity 1 .if we change the above result with imaage of intensity 255 .it will approximately take 900 timesteps to process the image.\n",
    "Disadvantage is it willbe computationally heavy"
   ]
  }
 ],
 "metadata": {
  "kernelspec": {
   "display_name": "Python 3",
   "language": "python",
   "name": "python3"
  },
  "language_info": {
   "codemirror_mode": {
    "name": "ipython",
    "version": 3
   },
   "file_extension": ".py",
   "mimetype": "text/x-python",
   "name": "python",
   "nbconvert_exporter": "python",
   "pygments_lexer": "ipython3",
   "version": "3.6.9"
  }
 },
 "nbformat": 4,
 "nbformat_minor": 4
}
